{
  "nbformat": 4,
  "nbformat_minor": 0,
  "metadata": {
    "colab": {
      "provenance": []
    },
    "kernelspec": {
      "name": "python3",
      "display_name": "Python 3"
    },
    "language_info": {
      "name": "python"
    }
  },
  "cells": [
    {
      "cell_type": "markdown",
      "source": [
        "#**Restful API & Flask Assignment**\n",
        "-------"
      ],
      "metadata": {
        "id": "TVp493yiBInI"
      }
    },
    {
      "cell_type": "markdown",
      "source": [
        "1. What is a RESTful API?\n",
        "- A RESTful API (Representational State Transfer API) is a way for applications to communicate over the web using standard HTTP methods. It follows REST principles, such as:\n",
        "    - Stateless communication (each request is independent).\n",
        "    - Uses standard HTTP methods like GET, POST, PUT, DELETE.\n",
        "    - Resources are identified by URLs.\n",
        "    - Responses are often in JSON or XML.\n",
        "\n",
        "------"
      ],
      "metadata": {
        "id": "DqyFCxqgBdAE"
      }
    },
    {
      "cell_type": "markdown",
      "source": [
        "2. Explain the concept of API specification.\n",
        "- An API specification is a detailed description of how an API works and how clients can interact with it. It defines:\n",
        "    - Available endpoints (URLs).\n",
        "    - HTTP methods supported (GET, POST, etc.).\n",
        "    - Request parameters (query, path, body).\n",
        "    - Response format (JSON, XML, etc.).\n",
        "    - Error codes and messages.\n",
        "  \n",
        "  Examples: OpenAPI/Swagger specifications.\n",
        "----------"
      ],
      "metadata": {
        "id": "4Vh7PDY8C289"
      }
    },
    {
      "cell_type": "markdown",
      "source": [
        "3. What is Flask, and why is it popular for building APIs?\n",
        "- Flask is a lightweight Python web framework.\n",
        "    - Popular because it is simple, flexible, and minimalistic.\n",
        "    - Provides routing, request handling, and extensions for databases, authentication, etc.\n",
        "    - Great for building REST APIs quickly.\n",
        "\n",
        "-----"
      ],
      "metadata": {
        "id": "IX4wLdayDKrd"
      }
    },
    {
      "cell_type": "markdown",
      "source": [
        "4. What is routing in Flask?\n",
        "- Routing is the process of mapping URLs to specific functions (called view functions).\n",
        "Example:"
      ],
      "metadata": {
        "id": "1eUc1AFmDYgw"
      }
    },
    {
      "cell_type": "code",
      "source": [
        "@app.route('/hello')\n",
        "def hello():\n",
        "    return \"Hello, World!\""
      ],
      "metadata": {
        "id": "1Z6KznYiDm3u"
      },
      "execution_count": null,
      "outputs": []
    },
    {
      "cell_type": "markdown",
      "source": [
        "- When a user visits /hello, Flask executes the hello() function.\n",
        "--------"
      ],
      "metadata": {
        "id": "dYrJFQYBDn5a"
      }
    },
    {
      "cell_type": "markdown",
      "source": [
        "5. How do you create a simple Flask application?\n",
        "- Steps:\n",
        "    - Import Flask.\n",
        "    - Create an app instance.\n",
        "    - Define routes.\n",
        "    - Run the app."
      ],
      "metadata": {
        "id": "PwMrfBDIDvil"
      }
    },
    {
      "cell_type": "code",
      "source": [
        "from flask import Flask\n",
        "\n",
        "app = Flask(__name__)\n",
        "\n",
        "@app.route('/')\n",
        "def home():\n",
        "    return \"Hello, Flask!\"\n",
        "\n",
        "if __name__ == '__main__':\n",
        "    app.run(debug=True)"
      ],
      "metadata": {
        "id": "wMVfxT5-EQ18"
      },
      "execution_count": null,
      "outputs": []
    },
    {
      "cell_type": "markdown",
      "source": [
        "--------"
      ],
      "metadata": {
        "id": "ixIfOZAFJWy0"
      }
    },
    {
      "cell_type": "markdown",
      "source": [
        "6. What are HTTP methods used in RESTful APIs?\n",
        "\n",
        "- GET → Retrieve data.\n",
        "\n",
        "- POST → Create new data.\n",
        "\n",
        "- PUT → Update/replace existing data.\n",
        "\n",
        "- PATCH → Partially update data.\n",
        "\n",
        "- DELETE → Remove data.\n",
        "----------"
      ],
      "metadata": {
        "id": "3w54ltI2ESAx"
      }
    },
    {
      "cell_type": "markdown",
      "source": [
        "7. What is the purpose of the @app.route() decorator in Flask?\n",
        "\n",
        "- It binds a URL to a function.\n",
        "\n",
        "- Example: @app.route('/users') maps /users URL to a Python function.\n",
        "\n",
        "- Supports HTTP method restrictions like @app.route('/users', methods=['POST']).\n",
        "--------"
      ],
      "metadata": {
        "id": "_-tCYVYCEfJd"
      }
    },
    {
      "cell_type": "markdown",
      "source": [
        "8. What is the difference between GET and POST HTTP methods?\n",
        "\n",
        "- GET:\n",
        "\n",
        "    - Used to fetch data.\n",
        "\n",
        "    - Parameters are sent in the URL (query string).\n",
        "\n",
        "    - Safe and idempotent (doesn’t change data).\n",
        "\n",
        "- POST:\n",
        "\n",
        "    - Used to send data to the server.\n",
        "\n",
        "    - Data sent in request body (not visible in URL).\n",
        "\n",
        "    - Can create or update resources.\n",
        "------"
      ],
      "metadata": {
        "id": "D-ognoPTEpEi"
      }
    },
    {
      "cell_type": "markdown",
      "source": [
        "9. How do you handle errors in Flask APIs?\n",
        "- You can use @app.errorhandler or return custom error responses:"
      ],
      "metadata": {
        "id": "LErNTeF4E2WA"
      }
    },
    {
      "cell_type": "code",
      "source": [
        "from flask import jsonify\n",
        "\n",
        "@app.errorhandler(404)\n",
        "def not_found(error):\n",
        "    return jsonify({\"error\": \"Resource not found\"}), 404\n",
        "\n",
        "@app.errorhandler(500)\n",
        "def server_error(error):\n",
        "    return jsonify({\"error\": \"Server error\"}), 500"
      ],
      "metadata": {
        "id": "znPEgseUE7bE"
      },
      "execution_count": null,
      "outputs": []
    },
    {
      "cell_type": "markdown",
      "source": [
        "-----------"
      ],
      "metadata": {
        "id": "14XCgIygJM4C"
      }
    },
    {
      "cell_type": "markdown",
      "source": [
        "10. How do you connect Flask to a SQL database?\n",
        "- Options:\n",
        "\n",
        "  1. SQLite (built-in, simple)"
      ],
      "metadata": {
        "id": "HCMz8a_pE9t0"
      }
    },
    {
      "cell_type": "code",
      "source": [
        "import sqlite3\n",
        "\n",
        "def get_db_connection():\n",
        "    conn = sqlite3.connect('database.db')\n",
        "    conn.row_factory = sqlite3.Row\n",
        "    return conn"
      ],
      "metadata": {
        "id": "H411z_DyI_4F"
      },
      "execution_count": null,
      "outputs": []
    },
    {
      "cell_type": "markdown",
      "source": [
        "2. Using Flask-SQLAlchemy (recommended)"
      ],
      "metadata": {
        "id": "vHJRSCRLJBuv"
      }
    },
    {
      "cell_type": "code",
      "source": [
        "from flask_sqlalchemy import SQLAlchemy\n",
        "\n",
        "app.config['SQLALCHEMY_DATABASE_URI'] = 'sqlite:///mydb.db'\n",
        "db = SQLAlchemy(app)\n",
        "\n",
        "class User(db.Model):\n",
        "    id = db.Column(db.Integer, primary_key=True)\n",
        "    name = db.Column(db.String(80))\n",
        "\n",
        "db.create_all()"
      ],
      "metadata": {
        "id": "EVKZ7VumJEQp"
      },
      "execution_count": null,
      "outputs": []
    },
    {
      "cell_type": "markdown",
      "source": [
        "-------------"
      ],
      "metadata": {
        "id": "70X54YZ7JIhv"
      }
    },
    {
      "cell_type": "markdown",
      "source": [
        "11. What is the role of Flask-SQLAlchemy?\n",
        "\n",
        "- Flask-SQLAlchemy is an ORM (Object Relational Mapper) extension for Flask.\n",
        "\n",
        "- It allows developers to interact with databases (SQLite, MySQL, PostgreSQL, etc.) using Python classes instead of raw SQL queries.\n",
        "\n",
        "- Benefits:\n",
        "\n",
        "    - Simplifies database operations.\n",
        "    - Supports relationships between tables.\n",
        "    - Integrates well with Flask apps.\n",
        "-----------"
      ],
      "metadata": {
        "id": "aGHAWcQpJJxe"
      }
    },
    {
      "cell_type": "markdown",
      "source": [
        "12. What are Flask blueprints, and how are they useful?\n",
        "\n",
        "- Blueprints let you organize your Flask application into smaller, reusable modules.\n",
        "\n",
        "- They allow you to group routes, templates, and static files for specific features.\n",
        "\n",
        "- Useful for:\n",
        "\n",
        "    - Large applications.\n",
        "\n",
        "    - Keeping code clean and modular.\n",
        "----------"
      ],
      "metadata": {
        "id": "FvZKXzbpKYXe"
      }
    },
    {
      "cell_type": "markdown",
      "source": [
        "13. What is the purpose of Flask's request object?\n",
        "\n",
        "- The request object gives access to incoming request data like:\n",
        "\n",
        "    - Query parameters (request.args)\n",
        "\n",
        "    - Form data (request.form)\n",
        "\n",
        "    - JSON body (request.json)\n",
        "\n",
        "    - Headers (request.headers)\n",
        "\n",
        "    - HTTP method (request.method)\n",
        "------------"
      ],
      "metadata": {
        "id": "RE5J8qYGKlGh"
      }
    },
    {
      "cell_type": "markdown",
      "source": [
        "14. How do you create a RESTful API endpoint using Flask?"
      ],
      "metadata": {
        "id": "IjMBlrK5Ktio"
      }
    },
    {
      "cell_type": "code",
      "source": [
        "from flask import Flask, jsonify, request\n",
        "\n",
        "app = Flask(__name__)\n",
        "\n",
        "@app.route('/api/items', methods=['GET', 'POST'])\n",
        "def items():\n",
        "    if request.method == 'GET':\n",
        "        return jsonify({\"items\": [\"apple\", \"banana\"]})\n",
        "    elif request.method == 'POST':\n",
        "        data = request.json\n",
        "        return jsonify({\"message\": \"Item added\", \"item\": data}), 201"
      ],
      "metadata": {
        "id": "FqKhezvvKxv7"
      },
      "execution_count": 2,
      "outputs": []
    },
    {
      "cell_type": "markdown",
      "source": [
        "-----------"
      ],
      "metadata": {
        "id": "Dz7-brOnLSg8"
      }
    },
    {
      "cell_type": "markdown",
      "source": [
        "15. What is the purpose of Flask's jsonify() function?\n",
        "\n",
        "- Converts Python dictionaries/lists into a JSON HTTP response.\n",
        "\n",
        "- Automatically sets the Content-Type: application/json header.\n",
        "\n",
        "- Example:\n",
        "return jsonify({\"status\": \"success\", \"data\": [1,2,3]})\n",
        "---------"
      ],
      "metadata": {
        "id": "hM_TdXf_K1CG"
      }
    },
    {
      "cell_type": "markdown",
      "source": [
        "16.  Explain Flask’s url_for() function?\n",
        "\n",
        "- url_for() generates URLs dynamically based on the name of the view function.\n",
        "\n",
        "- Useful for avoiding hardcoding URLs."
      ],
      "metadata": {
        "id": "wlFImo_0LD2I"
      }
    },
    {
      "cell_type": "code",
      "source": [
        "@app.route('/profile/<username>')\n",
        "def profile(username):\n",
        "    return f\"Profile of {username}\"\n",
        "\n",
        "# Generate URL dynamically\n",
        "url_for('profile', username='Anuj')\n",
        "# Output: '/profile/Anuj'"
      ],
      "metadata": {
        "id": "2yaggWv4LOA_"
      },
      "execution_count": null,
      "outputs": []
    },
    {
      "cell_type": "markdown",
      "source": [
        "----------"
      ],
      "metadata": {
        "id": "q_h2ZyCPLPxS"
      }
    },
    {
      "cell_type": "markdown",
      "source": [
        "17. How does Flask handle static files (CSS, JavaScript, etc.)?\n",
        "\n",
        "- By default, Flask serves static files from the static/ directory.\n",
        "\n",
        "- Example structure: /static/style.css /templates/index.html\n",
        "\n",
        "-----------\n"
      ],
      "metadata": {
        "id": "g1Qxw5POLQ50"
      }
    },
    {
      "cell_type": "markdown",
      "source": [
        "18. What is an API specification, and how does it help in building a Flask API?\n",
        "\n",
        "- API Specification = A structured document (e.g., OpenAPI/Swagger) describing endpoints, parameters, responses, and errors.\n",
        "\n",
        "- Helps by:\n",
        "\n",
        "    - Standardizing API design.\n",
        "\n",
        "    - Allowing automatic documentation.\n",
        "\n",
        "    - Helping frontend developers and testers understand API behavior.\n",
        "-----------"
      ],
      "metadata": {
        "id": "ee86k8VGLuR6"
      }
    },
    {
      "cell_type": "markdown",
      "source": [
        "19. What are HTTP status codes, and why are they important in a Flask API?\n",
        "\n",
        "- Status codes indicate the result of an HTTP request.\n",
        "\n",
        "- Examples:\n",
        "\n",
        "    - 200 OK → Success.\n",
        "\n",
        "    - 201 Created → New resource created.\n",
        "\n",
        "    - 400 Bad Request → Client error.\n",
        "\n",
        "    - 404 Not Found → Resource missing.\n",
        "\n",
        "    - 500 Internal Server Error → Server crash.\n",
        "\n",
        "  They are important for clear communication between server and client.\n",
        "------"
      ],
      "metadata": {
        "id": "7w-nVvaBL4CN"
      }
    },
    {
      "cell_type": "markdown",
      "source": [
        "20. How do you handle POST requests in Flask?"
      ],
      "metadata": {
        "id": "1adMWkgtMF0K"
      }
    },
    {
      "cell_type": "code",
      "source": [
        "@app.route('/submit', methods=['POST'])\n",
        "def submit():\n",
        "    data = request.json  # get JSON body\n",
        "    return jsonify({\"received\": data}), 201"
      ],
      "metadata": {
        "id": "ASGRR-9SMKn5"
      },
      "execution_count": null,
      "outputs": []
    },
    {
      "cell_type": "markdown",
      "source": [
        "  you can also handle form data:\n",
        "\n",
        "    name = request.form['name']\n",
        "------------"
      ],
      "metadata": {
        "id": "kXj2FjF2MN1_"
      }
    },
    {
      "cell_type": "markdown",
      "source": [
        "21. How would you secure a Flask API?\n",
        "- Common practices:\n",
        "\n",
        "  - Authentication & Authorization → JWT, OAuth2, API Keys.\n",
        "\n",
        "  - Input Validation → Use libraries like Marshmallow.\n",
        "\n",
        "  - HTTPS → Enforce SSL/TLS.\n",
        "\n",
        "  - Rate Limiting → Prevent abuse with Flask-Limiter.\n",
        "\n",
        "  - CORS Handling → Control access with Flask-CORS.\n",
        "\n",
        "  - Error handling → Hide sensitive info in responses.\n",
        "-------"
      ],
      "metadata": {
        "id": "KZFkY_Y4MUCs"
      }
    },
    {
      "cell_type": "markdown",
      "source": [
        "22. What is the significance of the Flask-RESTful extension?\n",
        "\n",
        "- Flask-RESTful makes it easier to build REST APIs by providing:\n",
        "\n",
        "- A Resource class to define endpoints.\n",
        "\n",
        "- Automatic request parsing.\n",
        "\n",
        "- Error handling.\n",
        "\n",
        "- Cleaner, class-based route definitions."
      ],
      "metadata": {
        "id": "F-Gqp-2aMmrz"
      }
    },
    {
      "cell_type": "code",
      "source": [
        "from flask_restful import Resource, Api\n",
        "\n",
        "api = Api(app)\n",
        "\n",
        "class Hello(Resource):\n",
        "    def get(self):\n",
        "        return {\"message\": \"Hello World\"}\n",
        "\n",
        "api.add_resource(Hello, '/')"
      ],
      "metadata": {
        "id": "0_UuEv4sMuZ3"
      },
      "execution_count": null,
      "outputs": []
    },
    {
      "cell_type": "markdown",
      "source": [
        "--------"
      ],
      "metadata": {
        "id": "D2vYHC7XMwCk"
      }
    },
    {
      "cell_type": "markdown",
      "source": [
        "23. What is the role of Flask’s session object?\n",
        "\n",
        "- The session object stores data per user session across multiple requests.\n",
        "\n",
        "- Stored securely using cookies (signed with a secret key).\n",
        "\n",
        "- Example:"
      ],
      "metadata": {
        "id": "7cV830P1MxPg"
      }
    },
    {
      "cell_type": "code",
      "source": [
        "from flask import session\n",
        "\n",
        "@app.route('/login')\n",
        "def login():\n",
        "    session['user'] = 'Anuj'\n",
        "    return \"User logged in\"\n",
        "\n",
        "@app.route('/profile')\n",
        "def profile():\n",
        "    return f\"Welcome {session['user']}\""
      ],
      "metadata": {
        "id": "Vs9KFuFrM4Wi"
      },
      "execution_count": null,
      "outputs": []
    },
    {
      "cell_type": "markdown",
      "source": [
        "---------\n",
        "-----------"
      ],
      "metadata": {
        "id": "e2TGcN1vM5kR"
      }
    },
    {
      "cell_type": "markdown",
      "source": [
        "#**Practical**\n",
        "------"
      ],
      "metadata": {
        "id": "mKlG0Tm1M7fl"
      }
    },
    {
      "cell_type": "markdown",
      "source": [
        "1. How do you create a basic Flask application?"
      ],
      "metadata": {
        "id": "Jz8g5tY_NGik"
      }
    },
    {
      "cell_type": "code",
      "source": [
        "from flask import Flask\n",
        "\n",
        "app = Flask(__name__)\n",
        "\n",
        "@app.route('/')\n",
        "def home():\n",
        "    return \"Hello, Flask!\"\n",
        "\n",
        "if __name__ == '__main__':\n",
        "    app.run(debug=True)\n"
      ],
      "metadata": {
        "colab": {
          "base_uri": "https://localhost:8080/"
        },
        "id": "S2YYmh2INzjd",
        "outputId": "767864c2-1237-4c19-8c9f-2417576d3373"
      },
      "execution_count": null,
      "outputs": [
        {
          "output_type": "stream",
          "name": "stdout",
          "text": [
            " * Serving Flask app '__main__'\n",
            " * Debug mode: on\n"
          ]
        },
        {
          "output_type": "stream",
          "name": "stderr",
          "text": [
            "INFO:werkzeug:\u001b[31m\u001b[1mWARNING: This is a development server. Do not use it in a production deployment. Use a production WSGI server instead.\u001b[0m\n",
            " * Running on http://127.0.0.1:5000\n",
            "INFO:werkzeug:\u001b[33mPress CTRL+C to quit\u001b[0m\n",
            "INFO:werkzeug: * Restarting with watchdog (inotify)\n"
          ]
        }
      ]
    },
    {
      "cell_type": "markdown",
      "source": [
        "2. How do you serve static files like images or CSS in Flask?\n",
        "- Place files in a static/ directory.\n",
        "\n",
        "- Access them using url_for('static', filename='...').\n",
        "\n",
        "Example in HTML template:"
      ],
      "metadata": {
        "id": "C_IURvm3N2x0"
      }
    },
    {
      "cell_type": "code",
      "source": [
        "<link rel=\"stylesheet\" href=\"{{ url_for('static', filename='style.css') }}\">\n",
        "<img src=\"{{ url_for('static', filename='logo.png') }}\" alt=\"Logo\">"
      ],
      "metadata": {
        "id": "aotx_hjyN9Zu"
      },
      "execution_count": null,
      "outputs": []
    },
    {
      "cell_type": "markdown",
      "source": [
        "3. How do you define different routes with different HTTP methods in Flask?"
      ],
      "metadata": {
        "id": "HLxJ252POJPS"
      }
    },
    {
      "cell_type": "code",
      "source": [
        "@app.route('/user', methods=['GET', 'POST'])\n",
        "def user():\n",
        "    if request.method == 'GET':\n",
        "        return \"GET request\"\n",
        "    elif request.method == 'POST':\n",
        "        return \"POST request\""
      ],
      "metadata": {
        "id": "X4e7jiOZOOBG"
      },
      "execution_count": null,
      "outputs": []
    },
    {
      "cell_type": "markdown",
      "source": [
        "4. How do you render HTML templates in Flask?\n",
        "\n",
        "- Place templates in the templates/ folder.\n",
        "\n",
        "- Use render_template()."
      ],
      "metadata": {
        "id": "qemc-juHOTvS"
      }
    },
    {
      "cell_type": "code",
      "source": [
        "from flask import render_template\n",
        "\n",
        "@app.route('/about')\n",
        "def about():\n",
        "    return render_template('about.html', title=\"About Page\")"
      ],
      "metadata": {
        "id": "Mhrki-NOOcJ1"
      },
      "execution_count": null,
      "outputs": []
    },
    {
      "cell_type": "markdown",
      "source": [
        "5. How can you generate URLs for routes in Flask using url_for?"
      ],
      "metadata": {
        "id": "Fthu2ZP6OfyV"
      }
    },
    {
      "cell_type": "code",
      "source": [
        "from flask import url_for\n",
        "\n",
        "@app.route('/profile/<username>')\n",
        "def profile(username):\n",
        "    return f\"Profile of {username}\"\n",
        "\n",
        "@app.route('/goto')\n",
        "def goto():\n",
        "    return redirect(url_for('profile', username='Anuj'))"
      ],
      "metadata": {
        "id": "wwVIs8ZVOj8d"
      },
      "execution_count": null,
      "outputs": []
    },
    {
      "cell_type": "markdown",
      "source": [
        "6. How do you handle forms in Flask?"
      ],
      "metadata": {
        "id": "yGY6Yn5OOqjm"
      }
    },
    {
      "cell_type": "code",
      "source": [
        "from flask import request\n",
        "\n",
        "@app.route('/submit', methods=['GET', 'POST'])\n",
        "def submit():\n",
        "    if request.method == 'POST':\n",
        "        name = request.form['name']\n",
        "        return f\"Hello {name}\"\n",
        "    return render_template('form.html')"
      ],
      "metadata": {
        "id": "oa6HUfI4OupI"
      },
      "execution_count": null,
      "outputs": []
    },
    {
      "cell_type": "markdown",
      "source": [
        "7. How can you validate form data in Flask?\n",
        "- Options:\n",
        "\n",
        "    - Manual validation:"
      ],
      "metadata": {
        "id": "QkAv6QabOyHy"
      }
    },
    {
      "cell_type": "code",
      "source": [
        "if not name:\n",
        "    return \"Name is required\"\n"
      ],
      "metadata": {
        "id": "Ykv-CYcFO_-K"
      },
      "execution_count": null,
      "outputs": []
    },
    {
      "cell_type": "markdown",
      "source": [
        "- Using Flask-WTF (popular library):"
      ],
      "metadata": {
        "id": "kSeQ6p3hPBA4"
      }
    },
    {
      "cell_type": "code",
      "source": [
        "from flask_wtf import FlaskForm\n",
        "from wtforms import StringField, validators\n",
        "\n",
        "class MyForm(FlaskForm):\n",
        "    name = StringField('Name', [validators.DataRequired()])\n"
      ],
      "metadata": {
        "id": "pPxVfK9iPFXf"
      },
      "execution_count": null,
      "outputs": []
    },
    {
      "cell_type": "markdown",
      "source": [
        "8. How do you manage sessions in Flask?"
      ],
      "metadata": {
        "id": "KL_KSwkkPH5d"
      }
    },
    {
      "cell_type": "code",
      "source": [
        "from flask import session\n",
        "\n",
        "app.secret_key = 'supersecretkey'\n",
        "\n",
        "@app.route('/login')\n",
        "def login():\n",
        "    session['user'] = 'Anuj'\n",
        "    return \"Logged in!\"\n",
        "\n",
        "@app.route('/profile')\n",
        "def profile():\n",
        "    return f\"Welcome {session['user']}\"\n"
      ],
      "metadata": {
        "id": "BTqjFlwRPLcC"
      },
      "execution_count": null,
      "outputs": []
    },
    {
      "cell_type": "markdown",
      "source": [
        "9. How do you redirect to a different route in Flask?"
      ],
      "metadata": {
        "id": "YfRLXs-YPOn4"
      }
    },
    {
      "cell_type": "code",
      "source": [
        "from flask import redirect\n",
        "\n",
        "@app.route('/old')\n",
        "def old():\n",
        "    return redirect(url_for('new'))\n",
        "\n",
        "@app.route('/new')\n",
        "def new():\n",
        "    return \"This is the new page\"\n"
      ],
      "metadata": {
        "id": "XadvBTN-PSI7"
      },
      "execution_count": null,
      "outputs": []
    },
    {
      "cell_type": "markdown",
      "source": [
        "10. How do you handle errors in Flask (e.g., 404)?"
      ],
      "metadata": {
        "id": "7Nzobk4ePVAZ"
      }
    },
    {
      "cell_type": "code",
      "source": [
        "@app.errorhandler(404)\n",
        "def not_found(e):\n",
        "    return render_template('404.html'), 404\n"
      ],
      "metadata": {
        "id": "jmpv4Zc9PdB-"
      },
      "execution_count": null,
      "outputs": []
    },
    {
      "cell_type": "markdown",
      "source": [
        "11. How do you structure a Flask app using Blueprints?\n",
        "\n",
        "- Create a users.py file:"
      ],
      "metadata": {
        "id": "iJtAIsfbPeGg"
      }
    },
    {
      "cell_type": "code",
      "source": [
        "from flask import Blueprint\n",
        "\n",
        "users_bp = Blueprint('users', __name__)\n",
        "\n",
        "@users_bp.route('/users')\n",
        "def users():\n",
        "    return \"User list\"\n"
      ],
      "metadata": {
        "id": "fcXTySRNPj7G"
      },
      "execution_count": null,
      "outputs": []
    },
    {
      "cell_type": "markdown",
      "source": [
        "- Register in main app:"
      ],
      "metadata": {
        "id": "LacRDWR8Pmpm"
      }
    },
    {
      "cell_type": "code",
      "source": [
        "from users import users_bp\n",
        "app.register_blueprint(users_bp)\n"
      ],
      "metadata": {
        "id": "nn_YOxN7PrTc"
      },
      "execution_count": null,
      "outputs": []
    },
    {
      "cell_type": "markdown",
      "source": [
        "12. How do you define a custom Jinja filter in Flask?"
      ],
      "metadata": {
        "id": "gAh40aJoPvFY"
      }
    },
    {
      "cell_type": "code",
      "source": [
        "@app.template_filter('reverse')\n",
        "def reverse_filter(s):\n",
        "    return s[::-1]\n",
        "\n",
        "# In template: {{ \"hello\" | reverse }} → \"olleh\"\n"
      ],
      "metadata": {
        "id": "gZQsviXhP0DU"
      },
      "execution_count": null,
      "outputs": []
    },
    {
      "cell_type": "markdown",
      "source": [
        "13. How can you redirect with query parameters in Flask?"
      ],
      "metadata": {
        "id": "hgBjzauNP48W"
      }
    },
    {
      "cell_type": "code",
      "source": [
        "return redirect(url_for('search', q='flask', page=2))"
      ],
      "metadata": {
        "id": "8e3vD1H9P9Nm"
      },
      "execution_count": null,
      "outputs": []
    },
    {
      "cell_type": "markdown",
      "source": [
        "- Generates: /search?q=flask&page=2"
      ],
      "metadata": {
        "id": "0GWK5wAAQAy6"
      }
    },
    {
      "cell_type": "markdown",
      "source": [
        "14. How do you return JSON responses in Flask?"
      ],
      "metadata": {
        "id": "BRggn9cjQEdS"
      }
    },
    {
      "cell_type": "code",
      "source": [
        "from flask import jsonify\n",
        "\n",
        "@app.route('/api/data')\n",
        "def data():\n",
        "    return jsonify({\"name\": \"Anuj\", \"age\": 25})\n"
      ],
      "metadata": {
        "id": "NXhlLLX8QIhp"
      },
      "execution_count": null,
      "outputs": []
    },
    {
      "cell_type": "markdown",
      "source": [
        "15. How do you capture URL parameters in Flask?"
      ],
      "metadata": {
        "id": "lWwF_9GXQLEb"
      }
    },
    {
      "cell_type": "code",
      "source": [
        "@app.route('/user/<username>')\n",
        "def user_profile(username):\n",
        "    return f\"User: {username}\"\n",
        "\n",
        "@app.route('/post/<int:post_id>')\n",
        "def post(post_id):\n",
        "    return f\"Post ID: {post_id}\"\n"
      ],
      "metadata": {
        "id": "lO9pswYuQOz0"
      },
      "execution_count": null,
      "outputs": []
    },
    {
      "cell_type": "markdown",
      "source": [
        "--------------"
      ],
      "metadata": {
        "id": "41bVWmFAQRyG"
      }
    }
  ]
}